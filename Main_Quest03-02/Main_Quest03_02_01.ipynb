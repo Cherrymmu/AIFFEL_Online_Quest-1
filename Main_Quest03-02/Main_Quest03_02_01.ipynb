{
  "nbformat": 4,
  "nbformat_minor": 0,
  "metadata": {
    "colab": {
      "provenance": [],
      "mount_file_id": "10NQ2jMQEQpS2-GQPb35swMRa9qaYqLoO",
      "authorship_tag": "ABX9TyPHllABg895brCsePvmlNN5",
      "include_colab_link": true
    },
    "kernelspec": {
      "name": "python3",
      "display_name": "Python 3"
    },
    "language_info": {
      "name": "python"
    }
  },
  "cells": [
    {
      "cell_type": "markdown",
      "metadata": {
        "id": "view-in-github",
        "colab_type": "text"
      },
      "source": [
        "<a href=\"https://colab.research.google.com/github/leeseunghwan0409/AIFFEL_Online_Quest/blob/main/Main_Quest03-02/Main_Quest03_02_01.ipynb\" target=\"_parent\"><img src=\"https://colab.research.google.com/assets/colab-badge.svg\" alt=\"Open In Colab\"/></a>"
      ]
    },
    {
      "cell_type": "code",
      "execution_count": 1,
      "metadata": {
        "colab": {
          "base_uri": "https://localhost:8080/"
        },
        "id": "mWjozuiIHIqB",
        "outputId": "ba7abb2f-c0ce-444b-c80f-7e8dea825930"
      },
      "outputs": [
        {
          "output_type": "stream",
          "name": "stdout",
          "text": [
            "2.15.0\n",
            "1.23.5\n"
          ]
        }
      ],
      "source": [
        "# 사용할 라이브러리 버전 확인\n",
        "import tensorflow as tf\n",
        "import numpy as np\n",
        "\n",
        "print(tf.__version__)\n",
        "print(np.__version__)"
      ]
    },
    {
      "cell_type": "code",
      "source": [
        "from google.colab import drive\n",
        "drive.mount('/content/drive')"
      ],
      "metadata": {
        "colab": {
          "base_uri": "https://localhost:8080/"
        },
        "id": "FW-85Y5xWgoM",
        "outputId": "73cb512c-e174-4b3c-b80a-b8c952a363ca"
      },
      "execution_count": 2,
      "outputs": [
        {
          "output_type": "stream",
          "name": "stdout",
          "text": [
            "Drive already mounted at /content/drive; to attempt to forcibly remount, call drive.mount(\"/content/drive\", force_remount=True).\n"
          ]
        }
      ]
    },
    {
      "cell_type": "code",
      "source": [
        "# 데이터 불러오기 + Resize 작업\n",
        "from PIL import Image\n",
        "import glob\n",
        "import os"
      ],
      "metadata": {
        "id": "wcKY_VIzrFkn"
      },
      "execution_count": 3,
      "outputs": []
    },
    {
      "cell_type": "code",
      "source": [
        "# 가위, 바위, 보 이미지 변경\n",
        "def resize_images(img_path):\n",
        "  images=glob.glob(img_path + \"/*.jpg\")\n",
        "\n",
        "  print(len(images), \" images to be resized.\")\n",
        "\n",
        "  # 파일마다 모두 28x28 사이즈로 바꾸어 저장\n",
        "  target_size=(28,28)\n",
        "  for img in images:\n",
        "    old_img=Image.open(img)\n",
        "    new_img=old_img.resize(target_size,Image.ANTIALIAS)\n",
        "    new_img.save(img, \"JPEG\")\n",
        "\n",
        "  print(len(images), \" images resized.\")\n",
        "\n",
        "# 가위, 바위, 보 이미지가 각각 저장된 디렉토리 아래의 모든 jpg 파일을 읽어들여서\n",
        "image_dir_paths = [\"/content/drive/MyDrive/Colab Notebooks/image_data/scissor\",\n",
        "                   \"/content/drive/MyDrive/Colab Notebooks/image_data/rock\",\n",
        "                   \"/content/drive/MyDrive/Colab Notebooks/image_data/paper\"]\n",
        "\n",
        "for image_dir_path in image_dir_paths:\n",
        "  resize_images(image_dir_path)\n",
        "\n",
        "print(\"가위, 바위, 보 이미지 resize 완료\")"
      ],
      "metadata": {
        "colab": {
          "base_uri": "https://localhost:8080/"
        },
        "id": "rZYY3Nx2rUHo",
        "outputId": "f693a04e-ed0c-4e40-eb0e-4e0a9115bcaa"
      },
      "execution_count": 4,
      "outputs": [
        {
          "output_type": "stream",
          "name": "stdout",
          "text": [
            "2000  images to be resized.\n"
          ]
        },
        {
          "output_type": "stream",
          "name": "stderr",
          "text": [
            "<ipython-input-4-3d0a88860562>:11: DeprecationWarning: ANTIALIAS is deprecated and will be removed in Pillow 10 (2023-07-01). Use LANCZOS or Resampling.LANCZOS instead.\n",
            "  new_img=old_img.resize(target_size,Image.ANTIALIAS)\n"
          ]
        },
        {
          "output_type": "stream",
          "name": "stdout",
          "text": [
            "2000  images resized.\n",
            "2000  images to be resized.\n",
            "2000  images resized.\n",
            "2000  images to be resized.\n",
            "2000  images resized.\n",
            "가위, 바위, 보 이미지 resize 완료\n"
          ]
        }
      ]
    },
    {
      "cell_type": "code",
      "source": [
        "import matplotlib.pyplot as plt\n",
        "\n",
        "def load_data(img_path, number_of_data=6000): # 가위, 바위, 보 이미지 갯수\n",
        "  # 가위 : 0, 바위 : 1, 보 : 2\n",
        "  img_size=28\n",
        "  color=3\n",
        "  # 이미지 데이터와 라벨(가위 : 0, 바위 : 1, 보 : 2) 데이터를 담을 행렬 (matrix) 영역을 생성\n",
        "  imgs=np.zeros(number_of_data*img_size*img_size*color,dtype=np.int32).reshape(number_of_data,img_size,img_size,color)\n",
        "  labels=np.zeros(number_of_data,dtype=np.int32)\n",
        "\n",
        "  idx=0\n",
        "  for file in glob.iglob(img_path+'/scissor/*.jpg'):\n",
        "      img = np.array(Image.open(file),dtype=np.int32)\n",
        "      imgs[idx,:,:,:]=img    # 데이터 영역에 이미지 행렬을 복사\n",
        "      labels[idx]=0   # 가위 : 0\n",
        "      idx=idx+1\n",
        "\n",
        "  for file in glob.iglob(img_path+'/rock/*.jpg'):\n",
        "      img = np.array(Image.open(file),dtype=np.int32)\n",
        "      imgs[idx,:,:,:]=img    # 데이터 영역에 이미지 행렬을 복사\n",
        "      labels[idx]=1   # 바위 : 1\n",
        "      idx=idx+1\n",
        "\n",
        "  for file in glob.iglob(img_path+'/paper/*.jpg'):\n",
        "      img = np.array(Image.open(file),dtype=np.int32)\n",
        "      imgs[idx,:,:,:]=img    # 데이터 영역에 이미지 행렬을 복사\n",
        "      labels[idx]=2   # 보 : 2\n",
        "      idx=idx+1\n",
        "\n",
        "  print(\"학습데이터(x_train)의 이미지 개수는\", idx,\"입니다.\")\n",
        "  return imgs, labels\n",
        "\n",
        "image_dir_path = \"/content/drive/MyDrive/Colab Notebooks/image_data\"\n",
        "(x_train, y_train)=load_data(image_dir_path)\n",
        "x_train_norm = x_train/255.0   # 입력은 0~1 사이의 값으로 정규화\n",
        "\n",
        "print(\"x_train shape: {}\".format(x_train.shape))\n",
        "print(\"y_train shape: {}\".format(y_train.shape))"
      ],
      "metadata": {
        "colab": {
          "base_uri": "https://localhost:8080/"
        },
        "id": "f-A0ZktHsyxY",
        "outputId": "b829218b-7bb8-4202-e5bb-bc880b90d633"
      },
      "execution_count": 5,
      "outputs": [
        {
          "output_type": "stream",
          "name": "stdout",
          "text": [
            "학습데이터(x_train)의 이미지 개수는 6000 입니다.\n",
            "x_train shape: (6000, 28, 28, 3)\n",
            "y_train shape: (6000,)\n"
          ]
        }
      ]
    },
    {
      "cell_type": "code",
      "source": [
        "# 라벨링 된 이미지 확인\n",
        "plt.imshow(x_train[1])\n",
        "print('라벨: ', y_train[0])"
      ],
      "metadata": {
        "colab": {
          "base_uri": "https://localhost:8080/",
          "height": 447
        },
        "id": "1ndln9WkeNTn",
        "outputId": "167765df-e229-4be8-c2b4-4f1ef6f5dbf7"
      },
      "execution_count": 6,
      "outputs": [
        {
          "output_type": "stream",
          "name": "stdout",
          "text": [
            "라벨:  0\n"
          ]
        },
        {
          "output_type": "display_data",
          "data": {
            "text/plain": [
              "<Figure size 640x480 with 1 Axes>"
            ],
            "image/png": "[encoded data removed]"
          },
          "metadata": {}
        }
      ]
    },
    {
      "cell_type": "code",
      "source": [
        "# 딥러닝 네트워크 설계해보기\n",
        "import tensorflow as tf\n",
        "from tensorflow import keras\n",
        "from keras import regularizers\n",
        "import numpy as np\n",
        "\n",
        "# model을 직접 만들어 보세요.\n",
        "model=keras.models.Sequential()\n",
        "\n",
        "model.add(keras.layers.Conv2D(32, (3,3), activation='relu', input_shape=(28,28,3)))\n",
        "model.add(keras.layers.MaxPool2D(2,2))\n",
        "keras.layers.BatchNormalization()\n",
        "model.add(keras.layers.Dropout(0.5))\n",
        "\n",
        "model.add(keras.layers.Conv2D(64, (3,3), activation='relu'))\n",
        "model.add(keras.layers.MaxPooling2D((2,2)))\n",
        "keras.layers.BatchNormalization()\n",
        "model.add(keras.layers.Dropout(0.5))\n",
        "\n",
        "model.add(keras.layers.Flatten())\n",
        "\n",
        "model.add(keras.layers.Dense(128, activation='relu'))\n",
        "keras.layers.BatchNormalization()\n",
        "model.add(keras.layers.Dropout(0.5))\n",
        "\n",
        "model.add(keras.layers.Dense(3, activation='softmax'))\n",
        "\n",
        "print('Model에 추가된 Layer 개수: ', len(model.layers))\n",
        "\n",
        "model.summary()\n",
        "\n",
        "# 각 데이터별로 채널 수 추가해주기\n",
        "print(f\"Before Reshape - x_train_norm shape: {x_train_norm.shape}\")\n",
        "x_train_reshaped=x_train_norm.reshape(-1, 28, 28, 3)\n",
        "print(f\"After Reshape - x_train_reshaped shape: {x_train_reshaped.shape}\")"
      ],
      "metadata": {
        "colab": {
          "base_uri": "https://localhost:8080/"
        },
        "id": "EYaUE1d3exON",
        "outputId": "3fde5e1a-6acd-4144-cc71-777039807d96"
      },
      "execution_count": 7,
      "outputs": [
        {
          "output_type": "stream",
          "name": "stdout",
          "text": [
            "Model에 추가된 Layer 개수:  10\n",
            "Model: \"sequential\"\n",
            "_________________________________________________________________\n",
            " Layer (type)                Output Shape              Param #   \n",
            "=================================================================\n",
            " conv2d (Conv2D)             (None, 26, 26, 32)        896       \n",
            "                                                                 \n",
            " max_pooling2d (MaxPooling2  (None, 13, 13, 32)        0         \n",
            " D)                                                              \n",
            "                                                                 \n",
            " dropout (Dropout)           (None, 13, 13, 32)        0         \n",
            "                                                                 \n",
            " conv2d_1 (Conv2D)           (None, 11, 11, 64)        18496     \n",
            "                                                                 \n",
            " max_pooling2d_1 (MaxPoolin  (None, 5, 5, 64)          0         \n",
            " g2D)                                                            \n",
            "                                                                 \n",
            " dropout_1 (Dropout)         (None, 5, 5, 64)          0         \n",
            "                                                                 \n",
            " flatten (Flatten)           (None, 1600)              0         \n",
            "                                                                 \n",
            " dense (Dense)               (None, 128)               204928    \n",
            "                                                                 \n",
            " dropout_2 (Dropout)         (None, 128)               0         \n",
            "                                                                 \n",
            " dense_1 (Dense)             (None, 3)                 387       \n",
            "                                                                 \n",
            "=================================================================\n",
            "Total params: 224707 (877.76 KB)\n",
            "Trainable params: 224707 (877.76 KB)\n",
            "Non-trainable params: 0 (0.00 Byte)\n",
            "_________________________________________________________________\n",
            "Before Reshape - x_train_norm shape: (6000, 28, 28, 3)\n",
            "After Reshape - x_train_reshaped shape: (6000, 28, 28, 3)\n"
          ]
        }
      ]
    },
    {
      "cell_type": "code",
      "source": [
        "# 딥러닝 네트워크 학습\n",
        "model.compile(optimizer='adam',\n",
        "             loss='sparse_categorical_crossentropy',\n",
        "             metrics=['accuracy'])\n",
        "\n",
        "model.optimizer.learning_rate = 0.01\n",
        "model.fit(x_train_reshaped, y_train, epochs=10)"
      ],
      "metadata": {
        "colab": {
          "base_uri": "https://localhost:8080/"
        },
        "id": "Gs1bLHhNe18H",
        "outputId": "f365e1db-04bd-4900-d0cd-6e32dea0d02b"
      },
      "execution_count": 8,
      "outputs": [
        {
          "output_type": "stream",
          "name": "stdout",
          "text": [
            "Epoch 1/10\n",
            "188/188 [==============================] - 5s 19ms/step - loss: 0.4513 - accuracy: 0.7973\n",
            "Epoch 2/10\n",
            "188/188 [==============================] - 4s 19ms/step - loss: 0.0965 - accuracy: 0.9668\n",
            "Epoch 3/10\n",
            "188/188 [==============================] - 4s 21ms/step - loss: 0.0661 - accuracy: 0.9795\n",
            "Epoch 4/10\n",
            "188/188 [==============================] - 4s 21ms/step - loss: 0.0773 - accuracy: 0.9758\n",
            "Epoch 5/10\n",
            "188/188 [==============================] - 3s 19ms/step - loss: 0.0507 - accuracy: 0.9870\n",
            "Epoch 6/10\n",
            "188/188 [==============================] - 4s 19ms/step - loss: 0.0466 - accuracy: 0.9872\n",
            "Epoch 7/10\n",
            "188/188 [==============================] - 4s 24ms/step - loss: 0.0593 - accuracy: 0.9828\n",
            "Epoch 8/10\n",
            "188/188 [==============================] - 3s 18ms/step - loss: 0.0717 - accuracy: 0.9800\n",
            "Epoch 9/10\n",
            "188/188 [==============================] - 3s 18ms/step - loss: 0.0498 - accuracy: 0.9872\n",
            "Epoch 10/10\n",
            "188/188 [==============================] - 4s 23ms/step - loss: 0.0445 - accuracy: 0.9855\n"
          ]
        },
        {
          "output_type": "execute_result",
          "data": {
            "text/plain": [
              "<keras.src.callbacks.History at 0x7d688473b490>"
            ]
          },
          "metadata": {},
          "execution_count": 8
        }
      ]
    },
    {
      "cell_type": "code",
      "source": [
        "# 가위, 바위, 보 이미지 변경\n",
        "def resize_images(img_path):\n",
        "  images=glob.glob(img_path + \"/*.jpg\")\n",
        "\n",
        "  print(len(images), \" images to be resized.\")\n",
        "\n",
        "  # 파일마다 모두 28x28 사이즈로 바꾸어 저장\n",
        "  target_size=(28,28)\n",
        "  for img in images:\n",
        "    old_img=Image.open(img)\n",
        "    new_img=old_img.resize(target_size,Image.ANTIALIAS)\n",
        "    new_img.save(img, \"JPEG\")\n",
        "\n",
        "  print(len(images), \" images resized.\")\n",
        "\n",
        "# 가위, 바위, 보 이미지가 각각 저장된 디렉토리 아래의 모든 jpg 파일을 읽어들여서\n",
        "image_dir_paths = [\"/content/drive/MyDrive/Colab Notebooks/image_data/최강훈_data/scissor\",\n",
        "                   \"/content/drive/MyDrive/Colab Notebooks/image_data/최강훈_data/rock\",\n",
        "                   \"/content/drive/MyDrive/Colab Notebooks/image_data/최강훈_data/paper\"]\n",
        "\n",
        "for image_dir_path in image_dir_paths:\n",
        "  resize_images(image_dir_path)\n",
        "\n",
        "print(\"가위, 바위, 보 이미지 resize 완료\")"
      ],
      "metadata": {
        "colab": {
          "base_uri": "https://localhost:8080/"
        },
        "id": "Rfu91HU0j2hH",
        "outputId": "347fb678-6ea9-4aaf-8c88-aac47b63cb64"
      },
      "execution_count": 9,
      "outputs": [
        {
          "output_type": "stream",
          "name": "stdout",
          "text": [
            "100  images to be resized.\n"
          ]
        },
        {
          "output_type": "stream",
          "name": "stderr",
          "text": [
            "<ipython-input-9-b1dabff47f0c>:11: DeprecationWarning: ANTIALIAS is deprecated and will be removed in Pillow 10 (2023-07-01). Use LANCZOS or Resampling.LANCZOS instead.\n",
            "  new_img=old_img.resize(target_size,Image.ANTIALIAS)\n"
          ]
        },
        {
          "output_type": "stream",
          "name": "stdout",
          "text": [
            "100  images resized.\n",
            "100  images to be resized.\n",
            "100  images resized.\n",
            "100  images to be resized.\n",
            "100  images resized.\n",
            "가위, 바위, 보 이미지 resize 완료\n"
          ]
        }
      ]
    },
    {
      "cell_type": "code",
      "source": [
        "def load_data(img_path, number_of_data=300): # 가위, 바위, 보 이미지 갯수\n",
        "  # 가위 : 0, 바위 : 1, 보 : 2\n",
        "  img_size=28\n",
        "  color=3\n",
        "  # 이미지 데이터와 라벨(가위 : 0, 바위 : 1, 보 : 2) 데이터를 담을 행렬 (matrix) 영역을 생성\n",
        "  imgs=np.zeros(number_of_data*img_size*img_size*color,dtype=np.int32).reshape(number_of_data,img_size,img_size,color)\n",
        "  labels=np.zeros(number_of_data,dtype=np.int32)\n",
        "\n",
        "  idx=0\n",
        "  for file in glob.iglob(img_path+'/scissor/*.jpg'):\n",
        "      img = np.array(Image.open(file),dtype=np.int32)\n",
        "      imgs[idx,:,:,:]=img    # 데이터 영역에 이미지 행렬을 복사\n",
        "      labels[idx]=0   # 가위 : 0\n",
        "      idx=idx+1\n",
        "\n",
        "  for file in glob.iglob(img_path+'/rock/*.jpg'):\n",
        "      img = np.array(Image.open(file),dtype=np.int32)\n",
        "      imgs[idx,:,:,:]=img    # 데이터 영역에 이미지 행렬을 복사\n",
        "      labels[idx]=1   # 바위 : 1\n",
        "      idx=idx+1\n",
        "\n",
        "  for file in glob.iglob(img_path+'/paper/*.jpg'):\n",
        "      img = np.array(Image.open(file),dtype=np.int32)\n",
        "      imgs[idx,:,:,:]=img    # 데이터 영역에 이미지 행렬을 복사\n",
        "      labels[idx]=2   # 보 : 2\n",
        "      idx=idx+1\n",
        "\n",
        "  print(\"학습데이터(x_test)의 이미지 개수는\", idx,\"입니다.\")\n",
        "  return imgs, labels\n",
        "\n",
        "image_dir_path = \"/content/drive/MyDrive/Colab Notebooks/image_data/최강훈_data\"\n",
        "(x_test, y_test)=load_data(image_dir_path)\n",
        "x_test_norm = x_test/255.0   # 입력은 0~1 사이의 값으로 정규화\n",
        "\n",
        "print(\"x_test shape: {}\".format(x_test.shape))\n",
        "print(\"y_test shape: {}\".format(y_test.shape))\n",
        "\n",
        "x_test_reshaped=x_test_norm.reshape(-1, 28, 28, 3)"
      ],
      "metadata": {
        "colab": {
          "base_uri": "https://localhost:8080/"
        },
        "id": "ubz0MqU9kM8R",
        "outputId": "ea40f100-e222-4ee2-b4f6-55f89d68ebe5"
      },
      "execution_count": 10,
      "outputs": [
        {
          "output_type": "stream",
          "name": "stdout",
          "text": [
            "학습데이터(x_test)의 이미지 개수는 300 입니다.\n",
            "x_test shape: (300, 28, 28, 3)\n",
            "y_test shape: (300,)\n"
          ]
        }
      ]
    },
    {
      "cell_type": "code",
      "source": [
        "# 라벨링 된 이미지 확인\n",
        "plt.imshow(x_test[1])\n",
        "print('라벨: ', y_test[0])"
      ],
      "metadata": {
        "colab": {
          "base_uri": "https://localhost:8080/",
          "height": 447
        },
        "id": "fWjHXkSrmO_U",
        "outputId": "4c8f2c90-1c0c-4a3b-df15-0cfde65381eb"
      },
      "execution_count": 11,
      "outputs": [
        {
          "output_type": "stream",
          "name": "stdout",
          "text": [
            "라벨:  0\n"
          ]
        },
        {
          "output_type": "display_data",
          "data": {
            "text/plain": [
              "<Figure size 640x480 with 1 Axes>"
            ],
            "image/png": "[encoded data removed]"
          },
          "metadata": {}
        }
      ]
    },
    {
      "cell_type": "code",
      "source": [
        "# 테스트 데이터로 성능 확인\n",
        "test_loss, test_accuracy = model.evaluate(x_test_reshaped,y_test, verbose=2)\n",
        "print(f\"test_loss: {test_loss}\")\n",
        "print(f\"test_accuracy: {test_accuracy}\")"
      ],
      "metadata": {
        "colab": {
          "base_uri": "https://localhost:8080/"
        },
        "id": "uQZcEYfQmV_D",
        "outputId": "69a18838-e5bd-4393-ca0a-da912ea3b912"
      },
      "execution_count": 12,
      "outputs": [
        {
          "output_type": "stream",
          "name": "stdout",
          "text": [
            "10/10 - 0s - loss: 2.0832 - accuracy: 0.4533 - 191ms/epoch - 19ms/step\n",
            "test_loss: 2.0832324028015137\n",
            "test_accuracy: 0.4533333480358124\n"
          ]
        }
      ]
    }
  ]
}