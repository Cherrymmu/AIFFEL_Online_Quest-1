{
 "cells": [
  {
   "cell_type": "markdown",
   "id": "a6770080",
   "metadata": {},
   "source": [
    "### 데이터 로드 및 전처리"
   ]
  },
  {
   "cell_type": "markdown",
   "id": "3d896a65",
   "metadata": {},
   "source": [
    "- reuters 데이터셋을 로드하고, 훈련 데이터셋을 25%를 검증 데이터셋으로 분리한다.\n",
    "- 이때 파라메터 조정을 통해 단어의 개수는 10000개로 제한"
   ]
  },
  {
   "cell_type": "code",
   "execution_count": 1,
   "id": "7b01c526",
   "metadata": {},
   "outputs": [],
   "source": [
    "# 사용할 라이브러리 불러오기\n",
    "import numpy as np\n",
    "import matplotlib.pyplot as plt\n",
    "from sklearn.model_selection import train_test_split\n",
    "\n",
    "from tensorflow.keras import models, layers\n",
    "from tensorflow.keras import callbacks\n",
    "from tensorflow.keras import utils\n",
    "from keras.datasets import reuters"
   ]
  },
  {
   "cell_type": "code",
   "execution_count": 2,
   "id": "361b44b3",
   "metadata": {},
   "outputs": [
    {
     "name": "stdout",
     "output_type": "stream",
     "text": [
      "6736\n",
      "2246\n",
      "2246\n",
      "46\n"
     ]
    }
   ],
   "source": [
    "# reuters 데이터셋을 로드하고, 훈련 데이터셋에서 25%를 검증 데이터로 사용\n",
    "(train_data_full, train_labels_full), (test_data, test_labels) = reuters.load_data(num_words=10000)\n",
    "\n",
    "train_data, val_data, train_labels, val_labels = train_test_split(train_data_full, train_labels_full,\n",
    "                                                                  test_size=0.25,\n",
    "                                                                  random_state=123)\n",
    "\n",
    "\n",
    "# 훈련, 검증, 테스트 데이터와 레이블 종류가 몇 개인지 출력합니다.\n",
    "print(len(train_data))\n",
    "print(len(val_data))\n",
    "print(len(test_data))\n",
    "print(len(set(train_labels)))"
   ]
  },
  {
   "cell_type": "markdown",
   "id": "2dc7e6e3",
   "metadata": {},
   "source": [
    "- 텍스트 데이터의 전처리를 위해서 각 데이터셋마다 원-핫 인코딩을 수행한다."
   ]
  },
  {
   "cell_type": "code",
   "execution_count": 3,
   "id": "5d6a910c",
   "metadata": {},
   "outputs": [],
   "source": [
    "def one_hot_encoding(data, dim=10000):\n",
    "  results = np.zeros((len(data), dim))\n",
    "  for i, d in enumerate(data):\n",
    "    results[i, d] = 1.\n",
    "  return results\n",
    "\n",
    "x_train = one_hot_encoding(train_data)\n",
    "x_val = one_hot_encoding(val_data)\n",
    "x_test = one_hot_encoding(test_data)\n",
    "\n",
    "# 레이블 데이터들을 범주형 형태로 to_categorical() 함수를 사용해 변환한다.\n",
    "y_train = utils.to_categorical(train_labels)\n",
    "y_val = utils.to_categorical(val_labels)\n",
    "y_test = utils.to_categorical(test_labels)"
   ]
  },
  {
   "cell_type": "markdown",
   "id": "1976a1c0",
   "metadata": {},
   "source": [
    "### 모델 구성 및 컴파일"
   ]
  },
  {
   "cell_type": "markdown",
   "id": "e4863e8b",
   "metadata": {},
   "source": [
    "- BatchNormalization과 Dropout을 적용하여 빠르게 학습하면서 과대적합을 방지하고, 46개의 뉴스 주제를 분류하는 딥러닝 모델을 구성한다."
   ]
  },
  {
   "cell_type": "code",
   "execution_count": 5,
   "id": "38e3bfb0",
   "metadata": {},
   "outputs": [
    {
     "name": "stdout",
     "output_type": "stream",
     "text": [
      "Model: \"sequential_1\"\n",
      "_________________________________________________________________\n",
      "Layer (type)                 Output Shape              Param #   \n",
      "=================================================================\n",
      "dense_4 (Dense)              (None, 32)                320032    \n",
      "_________________________________________________________________\n",
      "dense_5 (Dense)              (None, 32)                1056      \n",
      "_________________________________________________________________\n",
      "batch_normalization_2 (Batch (None, 32)                128       \n",
      "_________________________________________________________________\n",
      "dropout_2 (Dropout)          (None, 32)                0         \n",
      "_________________________________________________________________\n",
      "dense_6 (Dense)              (None, 32)                1056      \n",
      "_________________________________________________________________\n",
      "batch_normalization_3 (Batch (None, 32)                128       \n",
      "_________________________________________________________________\n",
      "dropout_3 (Dropout)          (None, 32)                0         \n",
      "_________________________________________________________________\n",
      "dense_7 (Dense)              (None, 46)                1518      \n",
      "=================================================================\n",
      "Total params: 323,918\n",
      "Trainable params: 323,790\n",
      "Non-trainable params: 128\n",
      "_________________________________________________________________\n"
     ]
    }
   ],
   "source": [
    "model = models.Sequential()\n",
    "model.add(layers.Dense(32, input_shape=(10000, )))\n",
    "model.add(layers.Dense(32, activation='relu'))\n",
    "model.add(layers.BatchNormalization())\n",
    "model.add(layers.Dropout(0.5))\n",
    "model.add(layers.Dense(32, activation='relu'))\n",
    "model.add(layers.BatchNormalization())\n",
    "model.add(layers.Dropout(0.5))\n",
    "model.add(layers.Dense(46, activation='softmax'))\n",
    "\n",
    "model.compile(optimizer='RMSprop',\n",
    "              loss='categorical_crossentropy',\n",
    "              metrics=['accuracy'])\n",
    "\n",
    "\n",
    "checkpoint = callbacks.ModelCheckpoint('best_model.h5', save_best_only=True)\n",
    "earlystop = callbacks.EarlyStopping(monitor='val_loss', patience=10, restore_best_weights=True)\n",
    "\n",
    "model.summary()"
   ]
  },
  {
   "cell_type": "markdown",
   "id": "ac43a670",
   "metadata": {},
   "source": [
    "### 모델 학습"
   ]
  },
  {
   "cell_type": "markdown",
   "id": "73e955e7",
   "metadata": {},
   "source": [
    "- ModelCheckpoint와 EarlyStopping 콜백 함수를 적용하여 모델 학습을 진행한다."
   ]
  },
  {
   "cell_type": "code",
   "execution_count": 6,
   "id": "3ce7a732",
   "metadata": {},
   "outputs": [
    {
     "name": "stdout",
     "output_type": "stream",
     "text": [
      "Epoch 1/20\n",
      "14/14 [==============================] - 2s 51ms/step - loss: 3.7169 - accuracy: 0.1568 - val_loss: 3.5045 - val_accuracy: 0.5864\n",
      "Epoch 2/20\n",
      "14/14 [==============================] - 0s 15ms/step - loss: 2.8751 - accuracy: 0.3621 - val_loss: 3.2520 - val_accuracy: 0.6233\n",
      "Epoch 3/20\n",
      "14/14 [==============================] - 0s 17ms/step - loss: 2.4536 - accuracy: 0.4926 - val_loss: 3.0034 - val_accuracy: 0.6367\n",
      "Epoch 4/20\n",
      "14/14 [==============================] - 0s 17ms/step - loss: 2.1392 - accuracy: 0.5720 - val_loss: 2.7642 - val_accuracy: 0.6354\n",
      "Epoch 5/20\n",
      "14/14 [==============================] - 0s 17ms/step - loss: 1.8866 - accuracy: 0.6237 - val_loss: 2.5214 - val_accuracy: 0.6429\n",
      "Epoch 6/20\n",
      "14/14 [==============================] - 0s 17ms/step - loss: 1.6765 - accuracy: 0.6652 - val_loss: 2.3182 - val_accuracy: 0.6429\n",
      "Epoch 7/20\n",
      "14/14 [==============================] - 0s 16ms/step - loss: 1.5484 - accuracy: 0.6827 - val_loss: 2.1452 - val_accuracy: 0.6447\n",
      "Epoch 8/20\n",
      "14/14 [==============================] - 0s 17ms/step - loss: 1.4223 - accuracy: 0.6963 - val_loss: 1.9436 - val_accuracy: 0.6558\n",
      "Epoch 9/20\n",
      "14/14 [==============================] - 0s 17ms/step - loss: 1.3156 - accuracy: 0.7162 - val_loss: 1.8736 - val_accuracy: 0.6318\n",
      "Epoch 10/20\n",
      "14/14 [==============================] - 0s 16ms/step - loss: 1.2335 - accuracy: 0.7291 - val_loss: 1.7432 - val_accuracy: 0.6612\n",
      "Epoch 11/20\n",
      "14/14 [==============================] - 0s 15ms/step - loss: 1.1670 - accuracy: 0.7411 - val_loss: 1.6339 - val_accuracy: 0.6714\n",
      "Epoch 12/20\n",
      "14/14 [==============================] - 0s 15ms/step - loss: 1.1321 - accuracy: 0.7433 - val_loss: 1.6101 - val_accuracy: 0.6652\n",
      "Epoch 13/20\n",
      "14/14 [==============================] - 0s 15ms/step - loss: 1.0684 - accuracy: 0.7567 - val_loss: 1.4778 - val_accuracy: 0.6839\n",
      "Epoch 14/20\n",
      "14/14 [==============================] - 0s 13ms/step - loss: 1.0398 - accuracy: 0.7608 - val_loss: 1.4889 - val_accuracy: 0.6701\n",
      "Epoch 15/20\n",
      "14/14 [==============================] - 0s 15ms/step - loss: 0.9923 - accuracy: 0.7671 - val_loss: 1.4166 - val_accuracy: 0.6901\n",
      "Epoch 16/20\n",
      "14/14 [==============================] - 0s 14ms/step - loss: 0.9738 - accuracy: 0.7681 - val_loss: 1.4092 - val_accuracy: 0.6963\n",
      "Epoch 17/20\n",
      "14/14 [==============================] - 0s 14ms/step - loss: 0.9397 - accuracy: 0.7752 - val_loss: 1.3687 - val_accuracy: 0.6990\n",
      "Epoch 18/20\n",
      "14/14 [==============================] - 0s 14ms/step - loss: 0.8976 - accuracy: 0.7843 - val_loss: 1.3644 - val_accuracy: 0.6963\n",
      "Epoch 19/20\n",
      "14/14 [==============================] - 0s 14ms/step - loss: 0.8860 - accuracy: 0.7877 - val_loss: 1.3762 - val_accuracy: 0.6986\n",
      "Epoch 20/20\n",
      "14/14 [==============================] - 0s 14ms/step - loss: 0.8575 - accuracy: 0.7899 - val_loss: 1.3545 - val_accuracy: 0.7021\n"
     ]
    }
   ],
   "source": [
    "history = model.fit(x_train, y_train,\n",
    "                    epochs=20,\n",
    "                    batch_size=512,\n",
    "                    validation_data = (x_val, y_val),\n",
    "                    callbacks=(checkpoint, earlystop))"
   ]
  },
  {
   "cell_type": "markdown",
   "id": "05ee4165",
   "metadata": {},
   "source": [
    "- 학습 히스토리의 `loss`, `val_loss`, `accuracy`, `val_accuracy`를 차트로 시각화"
   ]
  },
  {
   "cell_type": "code",
   "execution_count": 7,
   "id": "6dbb11d1",
   "metadata": {},
   "outputs": [
    {
     "data": {
      "image/png": "[encoded data removed]",
      "text/plain": [
       "<Figure size 864x360 with 2 Axes>"
      ]
     },
     "metadata": {},
     "output_type": "display_data"
    }
   ],
   "source": [
    "plt.style.use('seaborn-white')\n",
    "\n",
    "history_dict = history.history\n",
    "\n",
    "loss = history_dict['loss']\n",
    "val_loss = history_dict['val_loss']\n",
    "\n",
    "epochs = range(1, len(loss) + 1)\n",
    "fig = plt.figure(figsize=(12, 5))\n",
    "\n",
    "ax1 = fig.add_subplot(1, 2, 1)\n",
    "ax1.plot(epochs, loss, 'b-', label='train_loss')\n",
    "ax1.plot(epochs, val_loss, 'r-', label='val_loss')\n",
    "ax1.set_title('Train and Validation Loss')\n",
    "ax1.set_xlabel('Epochs')\n",
    "ax1.set_ylabel('Loss')\n",
    "ax1.grid()\n",
    "ax1.legend()\n",
    "\n",
    "accuracy = history_dict['accuracy']\n",
    "val_accuracy = history_dict['val_accuracy']\n",
    "\n",
    "ax2 = fig.add_subplot(1, 2, 2)\n",
    "ax2.plot(epochs, accuracy, 'b-', label='train_accuracy')\n",
    "ax2.plot(epochs, val_accuracy, 'r-', label='val_accuracy')\n",
    "ax2.set_title('Train and Validation Accuracy')\n",
    "ax2.set_xlabel('Epochs')\n",
    "ax2.set_ylabel('Accuracy')\n",
    "ax2.grid()\n",
    "ax2.legend()\n",
    "\n",
    "plt.show()"
   ]
  },
  {
   "cell_type": "markdown",
   "id": "74739543",
   "metadata": {},
   "source": [
    "### 모델 평가 및 예측"
   ]
  },
  {
   "cell_type": "markdown",
   "id": "f7e1661f",
   "metadata": {},
   "source": [
    "- 테스트 데이터셋을 이용해 모델을 평가한다."
   ]
  },
  {
   "cell_type": "code",
   "execution_count": 8,
   "id": "a7dbbfe4",
   "metadata": {},
   "outputs": [
    {
     "name": "stdout",
     "output_type": "stream",
     "text": [
      "71/71 [==============================] - 0s 3ms/step - loss: 1.3160 - accuracy: 0.7119\n"
     ]
    },
    {
     "data": {
      "text/plain": [
       "[1.3159514665603638, 0.7119323015213013]"
      ]
     },
     "execution_count": 8,
     "metadata": {},
     "output_type": "execute_result"
    }
   ],
   "source": [
    "model.evaluate(x_test, y_test, verbose=1)"
   ]
  },
  {
   "cell_type": "code",
   "execution_count": null,
   "id": "221d3bcd",
   "metadata": {},
   "outputs": [],
   "source": []
  }
 ],
 "metadata": {
  "kernelspec": {
   "display_name": "Python 3 (ipykernel)",
   "language": "python",
   "name": "python3"
  },
  "language_info": {
   "codemirror_mode": {
    "name": "ipython",
    "version": 3
   },
   "file_extension": ".py",
   "mimetype": "text/x-python",
   "name": "python",
   "nbconvert_exporter": "python",
   "pygments_lexer": "ipython3",
   "version": "3.9.7"
  }
 },
 "nbformat": 4,
 "nbformat_minor": 5
}
